{
 "cells": [
  {
   "cell_type": "code",
   "execution_count": 1,
   "metadata": {},
   "outputs": [],
   "source": [
    "# Configuración inicial\n",
    "\n",
    "INPUT_FOLDER = 'input'\n",
    "OUTPUT_FOLDER = 'output'\n",
    "HOST_URL = 'http://localhost:5000'\n",
    "\n",
    "# zh - Chinese, en - English, es - Spanish\n",
    "\n",
    "INPUT_LANG = 'zh'\n",
    "OUTPUT_LANG = 'es'"
   ]
  },
  {
   "cell_type": "code",
   "execution_count": 2,
   "metadata": {},
   "outputs": [],
   "source": [
    "import requests\n",
    "\n",
    "def translate_file(file, target_lang, source_lang):\n",
    "    url = f'{HOST_URL}/translate_file'\n",
    "    input_file = open(file, 'rb')\n",
    "    files = {'file': input_file}\n",
    "    data = {'target': target_lang, 'source': source_lang}\n",
    "    response = requests.post(url, files=files, data=data)\n",
    "    input_file.close()\n",
    "    return response.json()"
   ]
  },
  {
   "cell_type": "code",
   "execution_count": 3,
   "metadata": {},
   "outputs": [],
   "source": [
    "def download_file(url, filename):\n",
    "    response = requests.get(url)\n",
    "    with open(filename, 'wb') as file:\n",
    "        file.write(response.content)\n",
    "        file.close()"
   ]
  },
  {
   "cell_type": "code",
   "execution_count": 4,
   "metadata": {},
   "outputs": [
    {
     "name": "stdout",
     "output_type": "stream",
     "text": [
      "Translated input\\example.txt to output\\example.txt\n"
     ]
    }
   ],
   "source": [
    "import os\n",
    "import json\n",
    "\n",
    "for file in os.listdir(INPUT_FOLDER):\n",
    "    file = os.path.join(INPUT_FOLDER, file)\n",
    "    response = translate_file(file, OUTPUT_LANG, INPUT_LANG)\n",
    "    output_path = os.path.join(OUTPUT_FOLDER, os.path.basename(file))\n",
    "    if 'translatedFileUrl' in response:\n",
    "        download_file(response['translatedFileUrl'], output_path)\n",
    "        print(f'Translated {file} to {output_path}')\n",
    "    else:\n",
    "        print(f'Error translating {file}')"
   ]
  }
 ],
 "metadata": {
  "kernelspec": {
   "display_name": "Python 3",
   "language": "python",
   "name": "python3"
  },
  "language_info": {
   "codemirror_mode": {
    "name": "ipython",
    "version": 3
   },
   "file_extension": ".py",
   "mimetype": "text/x-python",
   "name": "python",
   "nbconvert_exporter": "python",
   "pygments_lexer": "ipython3",
   "version": "3.12.4"
  }
 },
 "nbformat": 4,
 "nbformat_minor": 2
}
